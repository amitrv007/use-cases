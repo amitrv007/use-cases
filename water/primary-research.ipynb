{
 "cells": [
  {
   "cell_type": "markdown",
   "metadata": {},
   "source": [
    "## What's the problem?\n",
    "\n",
    "The problem area which I would like to research is **Water Management**.With rampant urbanization and rapid depletion of groundwater, the situation in many cities across the world is alarming!"
   ]
  },
  {
   "cell_type": "markdown",
   "metadata": {},
   "source": [
    "## What are the areas of focus?\n",
    "* Groundwater depth measurement\n",
    "* Groundwater quality measurement\n",
    "* Mapping of fresh water resources geographically\n",
    "* Household water consumption"
   ]
  },
  {
   "cell_type": "markdown",
   "metadata": {},
   "source": [
    "## Primary Research :\n",
    "* [India Water Tool](https://www.indiawatertool.in/)\n",
    "* How is groundwater depth measured?\n",
    "    * [Link 1](https://www.usgs.gov/faqs/how-can-i-find-depth-water-table-a-specific-location?qt-news_science_products=0#qt-news_science_products)\n",
    "    * [Link 2](http://bangalore.urbanmetabolism.asia/wp-content/uploads/2017/10/171005a-Yehle-Mehta-factsheet-1710a.pdf)\n",
    "* Bangalore Urban Metabolism Project : [Link 1](http://bangalore.urbanmetabolism.asia/2017/10/23/groundwater-table-maps/), [Link 2](http://bangalore.urbanmetabolism.asia/2017/10/17/groundwater-levels-from-2015-to-2017/)\n",
    "* [This Video](https://www.youtube.com/watch?v=0y4qmlzrNMA) shows a really cheap way of groundwater level measurement using sensors"
   ]
  },
  {
   "cell_type": "markdown",
   "metadata": {},
   "source": [
    "## Datasources for water :\n",
    "* USGS Datasets:[Here](https://www.usgs.gov/products/data-and-tools/science-datasets), [Here](https://waterdata.usgs.gov/nwis/gw), [Here](https://help.waterdata.usgs.gov/faq/groundwater/groundwater-daily-data)"
   ]
  },
  {
   "cell_type": "code",
   "execution_count": null,
   "metadata": {},
   "outputs": [],
   "source": []
  }
 ],
 "metadata": {
  "kernelspec": {
   "display_name": "Python 3",
   "language": "python",
   "name": "python3"
  },
  "language_info": {
   "codemirror_mode": {
    "name": "ipython",
    "version": 3
   },
   "file_extension": ".py",
   "mimetype": "text/x-python",
   "name": "python",
   "nbconvert_exporter": "python",
   "pygments_lexer": "ipython3",
   "version": "3.6.8"
  }
 },
 "nbformat": 4,
 "nbformat_minor": 2
}
